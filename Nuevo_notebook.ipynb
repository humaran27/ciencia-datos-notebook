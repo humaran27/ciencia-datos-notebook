{
  "nbformat": 4,
  "nbformat_minor": 0,
  "metadata": {
    "colab": {
      "provenance": [],
      "authorship_tag": "ABX9TyPwBRyR6wr7DAXZDlIVZZ7H",
      "include_colab_link": true
    },
    "kernelspec": {
      "name": "python3",
      "display_name": "Python 3"
    },
    "language_info": {
      "name": "python"
    }
  },
  "cells": [
    {
      "cell_type": "markdown",
      "metadata": {
        "id": "view-in-github",
        "colab_type": "text"
      },
      "source": [
        "<a href=\"https://colab.research.google.com/github/humaran27/ciencia-datos-notebook/blob/Rama1/Nuevo_notebook.ipynb\" target=\"_parent\"><img src=\"https://colab.research.google.com/assets/colab-badge.svg\" alt=\"Open In Colab\"/></a>"
      ]
    },
    {
      "cell_type": "code",
      "execution_count": null,
      "metadata": {
        "id": "N0PiNCTbMWwJ"
      },
      "outputs": [],
      "source": [
        "print(\"Hola mi primer commit con github y google\")"
      ]
    },
    {
      "cell_type": "code",
      "source": [
        "print(\"Mi segundo commit\")"
      ],
      "metadata": {
        "colab": {
          "base_uri": "https://localhost:8080/"
        },
        "id": "ihnRWf03UwXe",
        "outputId": "e4dcff29-4aee-488f-a6da-f36b1c3473ee"
      },
      "execution_count": 1,
      "outputs": [
        {
          "output_type": "stream",
          "name": "stdout",
          "text": [
            "Mi segundo commit\n"
          ]
        }
      ]
    }
  ]
}